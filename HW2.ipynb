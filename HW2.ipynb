{
 "cells": [
  {
   "cell_type": "code",
   "execution_count": 1,
   "id": "6d8a54a8-95c2-4fd2-ad70-336d5054f4d4",
   "metadata": {},
   "outputs": [],
   "source": [
    "import numpy as np\n",
    "import time"
   ]
  },
  {
   "cell_type": "code",
   "execution_count": 2,
   "id": "841e1a90-e80b-4733-8e83-319291b6b1bb",
   "metadata": {},
   "outputs": [],
   "source": [
    "def get_input_shape(input_matrix_shape, filter_matrix_shape):\n",
    "    matrix_dim = len(input_matrix_shape)\n",
    "    filter_dim = len(filter_matrix_shape)\n",
    "    \n",
    "    if matrix_dim == 3:\n",
    "        input_depth, input_height, input_width = input_matrix_shape\n",
    "    else:\n",
    "        input_height, input_width = input_matrix_shape\n",
    "        input_depth = 1\n",
    "    \n",
    "    if filter_dim == 4:\n",
    "        filter_depth = filter_matrix_shape[0]\n",
    "        filter_height = filter_matrix_shape[2]\n",
    "        filter_width = filter_matrix_shape[3]\n",
    "    elif filter_dim == 3:\n",
    "        filter_depth, filter_height, filter_width = filter_matrix_shape\n",
    "    else:\n",
    "        filter_height, filter_width = filter_matrix_shape\n",
    "        filter_depth = 1\n",
    "    \n",
    "    return input_depth, input_height, input_width, filter_depth, filter_height, filter_width"
   ]
  },
  {
   "cell_type": "markdown",
   "id": "be8763a4-40ed-422a-8264-71f3ff50c64e",
   "metadata": {},
   "source": [
    "### Функция свертки"
   ]
  },
  {
   "cell_type": "code",
   "execution_count": 4,
   "id": "ac595f9f-180b-4eff-bbeb-41b8b284f10d",
   "metadata": {},
   "outputs": [],
   "source": [
    "def conv2d(input_matrix, filter_matrix, stride=1):\n",
    "    input_depth, input_height, input_width, \\\n",
    "        filter_depth, filter_height, filter_width = get_input_shape(input_matrix.shape, filter_matrix.shape)\n",
    "    \n",
    "    output_height = (input_height - filter_height) // stride + 1\n",
    "    output_width = (input_width - filter_width) // stride + 1\n",
    "    output_depth = input_depth - filter_depth + 1\n",
    "    \n",
    "    output_matrix = np.zeros((output_depth, output_height, output_width))\n",
    "    \n",
    "    for d in range(output_depth):\n",
    "        for i in range(0, output_height, stride):\n",
    "            for j in range(0, output_width, stride):\n",
    "                if input_depth != 1:\n",
    "                    frame = input_matrix[d:d+filter_depth, i:i+filter_height, j:j+filter_width]\n",
    "                else:\n",
    "                    frame = input_matrix[i:i+filter_height, j:j+filter_width]\n",
    "                output_matrix[d, i // stride, j // stride] = np.sum(frame * filter_matrix)\n",
    "    \n",
    "    return output_matrix\n"
   ]
  },
  {
   "cell_type": "markdown",
   "id": "c0eb2b0c-7a29-4120-840c-a998e67f2627",
   "metadata": {},
   "source": [
    "### Depthwise - separable сверточный слой"
   ]
  },
  {
   "cell_type": "code",
   "execution_count": 6,
   "id": "52ffc0ab-7929-4ba8-a15f-41e4d40d256e",
   "metadata": {},
   "outputs": [],
   "source": [
    "def depthwise_conv2d(input_matrix, filter_matrix, stride=1):\n",
    "    input_depth, input_height, input_width, \\\n",
    "        filter_depth, filter_height, filter_width = get_input_shape(input_matrix.shape, filter_matrix.shape)\n",
    "    \n",
    "    output_height = (input_height - filter_height) // stride + 1\n",
    "    output_width = (input_width - filter_width) // stride + 1\n",
    "    \n",
    "    output_matrix = np.zeros((input_depth, output_height, output_width))\n",
    "    \n",
    "    for d in range(input_depth):\n",
    "        for i in range(0, output_height, stride):\n",
    "            for j in range(0, output_width, stride):\n",
    "                frame = input_matrix[d, i:i+filter_height, j:j+filter_width]\n",
    "                output_matrix[d, i // stride, j // stride] = np.sum(frame * filter_matrix)\n",
    "    \n",
    "    return output_matrix"
   ]
  },
  {
   "cell_type": "code",
   "execution_count": 7,
   "id": "0584de07-e81b-43d0-b860-0c3327a851cb",
   "metadata": {},
   "outputs": [],
   "source": [
    "def pointwise_conv2d(input_matrix, filter_matrix, stride=1):\n",
    "    input_depth, input_height, input_width, \\\n",
    "        filter_depth, filter_height, filter_width = get_input_shape(input_matrix.shape, filter_matrix.shape)\n",
    "    \n",
    "    output_depth = filter_depth\n",
    "    output_height = (input_height - filter_height) // stride + 1\n",
    "    output_width = (input_width - filter_width) // stride + 1\n",
    "    \n",
    "    output_matrix = np.zeros((output_depth, output_height, output_width))\n",
    "    \n",
    "    for m in range(output_depth):\n",
    "        for i in range(0, output_height, stride):\n",
    "            for j in range(0, output_width, stride):\n",
    "                for d in range(input_depth):\n",
    "                    output_matrix[m, i, j] += input_matrix[d, i * stride, j * stride] * filter_matrix[m, d, 0, 0]\n",
    "    \n",
    "    return output_matrix"
   ]
  },
  {
   "cell_type": "code",
   "execution_count": 8,
   "id": "b46fc45f-9fed-48c6-9040-2cc519707930",
   "metadata": {},
   "outputs": [],
   "source": [
    "def depthwise_separable_conv2d(input_matrix, depthwise_filter, pointwise_filter, stride=1):\n",
    "    depthwise_output = depthwise_conv2d(input_matrix, depthwise_filter, stride)\n",
    "    output_matrix = pointwise_conv2d(depthwise_output, pointwise_filter, stride)\n",
    "    return output_matrix"
   ]
  },
  {
   "cell_type": "markdown",
   "id": "c4c53030-f17d-407d-9f86-eae542fbcbd9",
   "metadata": {},
   "source": [
    "### Сравнение результатов"
   ]
  },
  {
   "cell_type": "code",
   "execution_count": 10,
   "id": "2ced3395-d25e-48d7-a211-50737aca89fc",
   "metadata": {},
   "outputs": [],
   "source": [
    "input_matrix = np.random.rand(16, 256, 256)\n",
    "conv_filter = np.random.rand(3, 3, 3)\n",
    "depthwise_filter = np.random.rand(1, 3, 3)\n",
    "pointwise_filter = np.random.rand(1, 16, 1, 1)\n",
    "stride = 1\n",
    "\n",
    "start_time = time.perf_counter()\n",
    "conv_output = conv2d(input_matrix, conv_filter, stride=stride)\n",
    "conv_time = time.perf_counter() - start_time\n",
    "\n",
    "start_time = time.perf_counter()\n",
    "separable_output = depthwise_separable_conv2d(input_matrix, depthwise_filter, pointwise_filter, stride=stride)\n",
    "separable_time = time.perf_counter() - start_time"
   ]
  },
  {
   "cell_type": "code",
   "execution_count": 11,
   "id": "49f34690-2de3-4142-966f-f9b662b3e67c",
   "metadata": {},
   "outputs": [
    {
     "name": "stdout",
     "output_type": "stream",
     "text": [
      "Direct convolutional 2d time: 8.10463140000138\n",
      "Depthwise - separable convolution time: 9.902731300000596\n"
     ]
    }
   ],
   "source": [
    "print(\"Direct convolutional 2d time:\", conv_time)\n",
    "print(\"Depthwise - separable convolution time:\", separable_time)"
   ]
  },
  {
   "cell_type": "markdown",
   "id": "7c438f10-0aa8-4184-9ac9-a8e191545c28",
   "metadata": {},
   "source": [
    "<br>Ожидаемого ускорения не просходит из-за того, что функция np.sum() в NumPy оптимизирована для быстрого вычисления суммы элементов массива<br>"
   ]
  }
 ],
 "metadata": {
  "kernelspec": {
   "display_name": "Python 3 (ipykernel)",
   "language": "python",
   "name": "python3"
  },
  "language_info": {
   "codemirror_mode": {
    "name": "ipython",
    "version": 3
   },
   "file_extension": ".py",
   "mimetype": "text/x-python",
   "name": "python",
   "nbconvert_exporter": "python",
   "pygments_lexer": "ipython3",
   "version": "3.12.4"
  }
 },
 "nbformat": 4,
 "nbformat_minor": 5
}
